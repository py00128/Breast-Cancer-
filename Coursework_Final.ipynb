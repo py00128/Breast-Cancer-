{
 "cells": [
  {
   "cell_type": "markdown",
   "id": "cec5b81c",
   "metadata": {},
   "source": [
    "# All required imports and loading of dataset"
   ]
  },
  {
   "cell_type": "code",
   "execution_count": 8,
   "id": "0465b805",
   "metadata": {},
   "outputs": [],
   "source": [
    "import numpy as np\n",
    "import sklearn\n",
    "import matplotlib.pyplot as plt\n",
    "import pandas as pd\n",
    "from sklearn.model_selection import train_test_split, KFold, cross_val_score, StratifiedKFold \n",
    "from sklearn.datasets import make_blobs\n",
    "from sklearn.preprocessing import scale\n",
    "from sklearn.naive_bayes import ComplementNB, BernoulliNB\n",
    "from sklearn.linear_model import LogisticRegression\n",
    "import seaborn as sns\n",
    "from sklearn.metrics import classification_report\n",
    "import math\n",
    "\n",
    "X = pd.read_csv(\"cancerdata.csv\")"
   ]
  },
  {
   "cell_type": "markdown",
   "id": "98aea52f",
   "metadata": {},
   "source": [
    "# Exploratory Data Analysis (EDA)"
   ]
  },
  {
   "cell_type": "code",
   "execution_count": 9,
   "id": "703f7a51",
   "metadata": {
    "scrolled": true
   },
   "outputs": [
    {
     "data": {
      "text/html": [
       "<div>\n",
       "<style scoped>\n",
       "    .dataframe tbody tr th:only-of-type {\n",
       "        vertical-align: middle;\n",
       "    }\n",
       "\n",
       "    .dataframe tbody tr th {\n",
       "        vertical-align: top;\n",
       "    }\n",
       "\n",
       "    .dataframe thead th {\n",
       "        text-align: right;\n",
       "    }\n",
       "</style>\n",
       "<table border=\"1\" class=\"dataframe\">\n",
       "  <thead>\n",
       "    <tr style=\"text-align: right;\">\n",
       "      <th></th>\n",
       "      <th>Cl.thickness</th>\n",
       "      <th>Cell.size</th>\n",
       "      <th>Cell.shape</th>\n",
       "      <th>Marg.adhesion</th>\n",
       "      <th>Epith.c.size</th>\n",
       "      <th>Bare.nuclei</th>\n",
       "      <th>Bl.cromatin</th>\n",
       "      <th>Normal.nucleoli</th>\n",
       "      <th>Mitoses</th>\n",
       "      <th>Class</th>\n",
       "    </tr>\n",
       "  </thead>\n",
       "  <tbody>\n",
       "    <tr>\n",
       "      <th>0</th>\n",
       "      <td>4.454847</td>\n",
       "      <td>2.386095</td>\n",
       "      <td>2.295170</td>\n",
       "      <td>2.530536</td>\n",
       "      <td>2.723036</td>\n",
       "      <td>2.393815</td>\n",
       "      <td>3.582104</td>\n",
       "      <td>2.591299</td>\n",
       "      <td>3.199268</td>\n",
       "      <td>0</td>\n",
       "    </tr>\n",
       "    <tr>\n",
       "      <th>1</th>\n",
       "      <td>4.454847</td>\n",
       "      <td>4.637212</td>\n",
       "      <td>4.603958</td>\n",
       "      <td>5.742196</td>\n",
       "      <td>7.896027</td>\n",
       "      <td>8.074609</td>\n",
       "      <td>3.582104</td>\n",
       "      <td>3.344739</td>\n",
       "      <td>3.199268</td>\n",
       "      <td>0</td>\n",
       "    </tr>\n",
       "    <tr>\n",
       "      <th>2</th>\n",
       "      <td>2.824082</td>\n",
       "      <td>2.386095</td>\n",
       "      <td>2.295170</td>\n",
       "      <td>2.530536</td>\n",
       "      <td>2.723036</td>\n",
       "      <td>3.025014</td>\n",
       "      <td>3.582104</td>\n",
       "      <td>2.591299</td>\n",
       "      <td>3.199268</td>\n",
       "      <td>0</td>\n",
       "    </tr>\n",
       "    <tr>\n",
       "      <th>3</th>\n",
       "      <td>5.270230</td>\n",
       "      <td>7.638702</td>\n",
       "      <td>7.682342</td>\n",
       "      <td>2.530536</td>\n",
       "      <td>3.757634</td>\n",
       "      <td>4.287413</td>\n",
       "      <td>3.582104</td>\n",
       "      <td>7.111938</td>\n",
       "      <td>3.199268</td>\n",
       "      <td>0</td>\n",
       "    </tr>\n",
       "    <tr>\n",
       "      <th>4</th>\n",
       "      <td>3.639465</td>\n",
       "      <td>2.386095</td>\n",
       "      <td>2.295170</td>\n",
       "      <td>4.136366</td>\n",
       "      <td>2.723036</td>\n",
       "      <td>2.393815</td>\n",
       "      <td>3.582104</td>\n",
       "      <td>2.591299</td>\n",
       "      <td>3.199268</td>\n",
       "      <td>0</td>\n",
       "    </tr>\n",
       "    <tr>\n",
       "      <th>...</th>\n",
       "      <td>...</td>\n",
       "      <td>...</td>\n",
       "      <td>...</td>\n",
       "      <td>...</td>\n",
       "      <td>...</td>\n",
       "      <td>...</td>\n",
       "      <td>...</td>\n",
       "      <td>...</td>\n",
       "      <td>...</td>\n",
       "      <td>...</td>\n",
       "    </tr>\n",
       "    <tr>\n",
       "      <th>678</th>\n",
       "      <td>2.824082</td>\n",
       "      <td>2.386095</td>\n",
       "      <td>2.295170</td>\n",
       "      <td>2.530536</td>\n",
       "      <td>3.757634</td>\n",
       "      <td>3.025014</td>\n",
       "      <td>1.704320</td>\n",
       "      <td>2.591299</td>\n",
       "      <td>3.199268</td>\n",
       "      <td>0</td>\n",
       "    </tr>\n",
       "    <tr>\n",
       "      <th>679</th>\n",
       "      <td>2.008699</td>\n",
       "      <td>2.386095</td>\n",
       "      <td>2.295170</td>\n",
       "      <td>2.530536</td>\n",
       "      <td>2.723036</td>\n",
       "      <td>2.393815</td>\n",
       "      <td>1.704320</td>\n",
       "      <td>2.591299</td>\n",
       "      <td>3.199268</td>\n",
       "      <td>0</td>\n",
       "    </tr>\n",
       "    <tr>\n",
       "      <th>680</th>\n",
       "      <td>4.454847</td>\n",
       "      <td>9.139446</td>\n",
       "      <td>9.221535</td>\n",
       "      <td>4.136366</td>\n",
       "      <td>7.896027</td>\n",
       "      <td>3.656214</td>\n",
       "      <td>8.276563</td>\n",
       "      <td>9.372257</td>\n",
       "      <td>4.526695</td>\n",
       "      <td>1</td>\n",
       "    </tr>\n",
       "    <tr>\n",
       "      <th>681</th>\n",
       "      <td>3.639465</td>\n",
       "      <td>7.638702</td>\n",
       "      <td>6.143150</td>\n",
       "      <td>4.939281</td>\n",
       "      <td>3.757634</td>\n",
       "      <td>4.287413</td>\n",
       "      <td>10.154346</td>\n",
       "      <td>6.358498</td>\n",
       "      <td>3.199268</td>\n",
       "      <td>1</td>\n",
       "    </tr>\n",
       "    <tr>\n",
       "      <th>682</th>\n",
       "      <td>3.639465</td>\n",
       "      <td>7.638702</td>\n",
       "      <td>7.682342</td>\n",
       "      <td>5.742196</td>\n",
       "      <td>4.792233</td>\n",
       "      <td>4.918612</td>\n",
       "      <td>10.154346</td>\n",
       "      <td>4.851618</td>\n",
       "      <td>3.199268</td>\n",
       "      <td>1</td>\n",
       "    </tr>\n",
       "  </tbody>\n",
       "</table>\n",
       "<p>683 rows × 10 columns</p>\n",
       "</div>"
      ],
      "text/plain": [
       "     Cl.thickness  Cell.size  Cell.shape  Marg.adhesion  Epith.c.size  \\\n",
       "0        4.454847   2.386095    2.295170       2.530536      2.723036   \n",
       "1        4.454847   4.637212    4.603958       5.742196      7.896027   \n",
       "2        2.824082   2.386095    2.295170       2.530536      2.723036   \n",
       "3        5.270230   7.638702    7.682342       2.530536      3.757634   \n",
       "4        3.639465   2.386095    2.295170       4.136366      2.723036   \n",
       "..            ...        ...         ...            ...           ...   \n",
       "678      2.824082   2.386095    2.295170       2.530536      3.757634   \n",
       "679      2.008699   2.386095    2.295170       2.530536      2.723036   \n",
       "680      4.454847   9.139446    9.221535       4.136366      7.896027   \n",
       "681      3.639465   7.638702    6.143150       4.939281      3.757634   \n",
       "682      3.639465   7.638702    7.682342       5.742196      4.792233   \n",
       "\n",
       "     Bare.nuclei  Bl.cromatin  Normal.nucleoli   Mitoses  Class  \n",
       "0       2.393815     3.582104         2.591299  3.199268      0  \n",
       "1       8.074609     3.582104         3.344739  3.199268      0  \n",
       "2       3.025014     3.582104         2.591299  3.199268      0  \n",
       "3       4.287413     3.582104         7.111938  3.199268      0  \n",
       "4       2.393815     3.582104         2.591299  3.199268      0  \n",
       "..           ...          ...              ...       ...    ...  \n",
       "678     3.025014     1.704320         2.591299  3.199268      0  \n",
       "679     2.393815     1.704320         2.591299  3.199268      0  \n",
       "680     3.656214     8.276563         9.372257  4.526695      1  \n",
       "681     4.287413    10.154346         6.358498  3.199268      1  \n",
       "682     4.918612    10.154346         4.851618  3.199268      1  \n",
       "\n",
       "[683 rows x 10 columns]"
      ]
     },
     "execution_count": 9,
     "metadata": {},
     "output_type": "execute_result"
    }
   ],
   "source": [
    "X"
   ]
  },
  {
   "cell_type": "code",
   "execution_count": 10,
   "id": "7b79db6f",
   "metadata": {},
   "outputs": [
    {
     "name": "stdout",
     "output_type": "stream",
     "text": [
      "444\n",
      "239\n"
     ]
    }
   ],
   "source": [
    "class_0, class_1 = X['Class'].value_counts()\n",
    "print(class_0)\n",
    "print(class_1)"
   ]
  },
  {
   "cell_type": "code",
   "execution_count": 11,
   "id": "11099f31",
   "metadata": {},
   "outputs": [
    {
     "data": {
      "image/png": "[encoded data removed]",
      "text/plain": [
       "<Figure size 640x480 with 1 Axes>"
      ]
     },
     "metadata": {},
     "output_type": "display_data"
    }
   ],
   "source": [
    "fig=plt.figure()\n",
    "ax = fig.add_subplot(1,1,1)\n",
    "ax.hist(X['Class'],bins = 2)\n",
    "plt.title('Class distribution')\n",
    "plt.xlabel('Class')\n",
    "plt.ylabel('Frequency')\n",
    "plt.show()"
   ]
  },
  {
   "cell_type": "code",
   "execution_count": 12,
   "id": "5d84ae55",
   "metadata": {
    "scrolled": true
   },
   "outputs": [
    {
     "data": {
      "text/html": [
       "<div>\n",
       "<style scoped>\n",
       "    .dataframe tbody tr th:only-of-type {\n",
       "        vertical-align: middle;\n",
       "    }\n",
       "\n",
       "    .dataframe tbody tr th {\n",
       "        vertical-align: top;\n",
       "    }\n",
       "\n",
       "    .dataframe thead th {\n",
       "        text-align: right;\n",
       "    }\n",
       "</style>\n",
       "<table border=\"1\" class=\"dataframe\">\n",
       "  <thead>\n",
       "    <tr style=\"text-align: right;\">\n",
       "      <th></th>\n",
       "      <th>Cl.thickness</th>\n",
       "      <th>Cell.size</th>\n",
       "      <th>Cell.shape</th>\n",
       "      <th>Marg.adhesion</th>\n",
       "      <th>Epith.c.size</th>\n",
       "      <th>Bare.nuclei</th>\n",
       "      <th>Bl.cromatin</th>\n",
       "      <th>Normal.nucleoli</th>\n",
       "      <th>Mitoses</th>\n",
       "      <th>Class</th>\n",
       "    </tr>\n",
       "  </thead>\n",
       "  <tbody>\n",
       "    <tr>\n",
       "      <th>Cl.thickness</th>\n",
       "      <td>1.000000</td>\n",
       "      <td>0.642481</td>\n",
       "      <td>0.653470</td>\n",
       "      <td>0.487829</td>\n",
       "      <td>0.523596</td>\n",
       "      <td>0.593091</td>\n",
       "      <td>0.553742</td>\n",
       "      <td>0.534066</td>\n",
       "      <td>0.350957</td>\n",
       "      <td>0.714790</td>\n",
       "    </tr>\n",
       "    <tr>\n",
       "      <th>Cell.size</th>\n",
       "      <td>0.642481</td>\n",
       "      <td>1.000000</td>\n",
       "      <td>0.907228</td>\n",
       "      <td>0.706977</td>\n",
       "      <td>0.753544</td>\n",
       "      <td>0.691709</td>\n",
       "      <td>0.755559</td>\n",
       "      <td>0.719346</td>\n",
       "      <td>0.460755</td>\n",
       "      <td>0.820801</td>\n",
       "    </tr>\n",
       "    <tr>\n",
       "      <th>Cell.shape</th>\n",
       "      <td>0.653470</td>\n",
       "      <td>0.907228</td>\n",
       "      <td>1.000000</td>\n",
       "      <td>0.685948</td>\n",
       "      <td>0.722462</td>\n",
       "      <td>0.713878</td>\n",
       "      <td>0.735344</td>\n",
       "      <td>0.717963</td>\n",
       "      <td>0.441258</td>\n",
       "      <td>0.821891</td>\n",
       "    </tr>\n",
       "    <tr>\n",
       "      <th>Marg.adhesion</th>\n",
       "      <td>0.487829</td>\n",
       "      <td>0.706977</td>\n",
       "      <td>0.685948</td>\n",
       "      <td>1.000000</td>\n",
       "      <td>0.594548</td>\n",
       "      <td>0.670648</td>\n",
       "      <td>0.668567</td>\n",
       "      <td>0.603121</td>\n",
       "      <td>0.418898</td>\n",
       "      <td>0.706294</td>\n",
       "    </tr>\n",
       "    <tr>\n",
       "      <th>Epith.c.size</th>\n",
       "      <td>0.523596</td>\n",
       "      <td>0.753544</td>\n",
       "      <td>0.722462</td>\n",
       "      <td>0.594548</td>\n",
       "      <td>1.000000</td>\n",
       "      <td>0.585716</td>\n",
       "      <td>0.618128</td>\n",
       "      <td>0.628926</td>\n",
       "      <td>0.480583</td>\n",
       "      <td>0.690958</td>\n",
       "    </tr>\n",
       "    <tr>\n",
       "      <th>Bare.nuclei</th>\n",
       "      <td>0.593091</td>\n",
       "      <td>0.691709</td>\n",
       "      <td>0.713878</td>\n",
       "      <td>0.670648</td>\n",
       "      <td>0.585716</td>\n",
       "      <td>1.000000</td>\n",
       "      <td>0.680615</td>\n",
       "      <td>0.584280</td>\n",
       "      <td>0.339210</td>\n",
       "      <td>0.822696</td>\n",
       "    </tr>\n",
       "    <tr>\n",
       "      <th>Bl.cromatin</th>\n",
       "      <td>0.553742</td>\n",
       "      <td>0.755559</td>\n",
       "      <td>0.735344</td>\n",
       "      <td>0.668567</td>\n",
       "      <td>0.618128</td>\n",
       "      <td>0.680615</td>\n",
       "      <td>1.000000</td>\n",
       "      <td>0.665602</td>\n",
       "      <td>0.346011</td>\n",
       "      <td>0.758228</td>\n",
       "    </tr>\n",
       "    <tr>\n",
       "      <th>Normal.nucleoli</th>\n",
       "      <td>0.534066</td>\n",
       "      <td>0.719346</td>\n",
       "      <td>0.717963</td>\n",
       "      <td>0.603121</td>\n",
       "      <td>0.628926</td>\n",
       "      <td>0.584280</td>\n",
       "      <td>0.665602</td>\n",
       "      <td>1.000000</td>\n",
       "      <td>0.433757</td>\n",
       "      <td>0.718677</td>\n",
       "    </tr>\n",
       "    <tr>\n",
       "      <th>Mitoses</th>\n",
       "      <td>0.350957</td>\n",
       "      <td>0.460755</td>\n",
       "      <td>0.441258</td>\n",
       "      <td>0.418898</td>\n",
       "      <td>0.480583</td>\n",
       "      <td>0.339210</td>\n",
       "      <td>0.346011</td>\n",
       "      <td>0.433757</td>\n",
       "      <td>1.000000</td>\n",
       "      <td>0.423448</td>\n",
       "    </tr>\n",
       "    <tr>\n",
       "      <th>Class</th>\n",
       "      <td>0.714790</td>\n",
       "      <td>0.820801</td>\n",
       "      <td>0.821891</td>\n",
       "      <td>0.706294</td>\n",
       "      <td>0.690958</td>\n",
       "      <td>0.822696</td>\n",
       "      <td>0.758228</td>\n",
       "      <td>0.718677</td>\n",
       "      <td>0.423448</td>\n",
       "      <td>1.000000</td>\n",
       "    </tr>\n",
       "  </tbody>\n",
       "</table>\n",
       "</div>"
      ],
      "text/plain": [
       "                 Cl.thickness  Cell.size  Cell.shape  Marg.adhesion  \\\n",
       "Cl.thickness         1.000000   0.642481    0.653470       0.487829   \n",
       "Cell.size            0.642481   1.000000    0.907228       0.706977   \n",
       "Cell.shape           0.653470   0.907228    1.000000       0.685948   \n",
       "Marg.adhesion        0.487829   0.706977    0.685948       1.000000   \n",
       "Epith.c.size         0.523596   0.753544    0.722462       0.594548   \n",
       "Bare.nuclei          0.593091   0.691709    0.713878       0.670648   \n",
       "Bl.cromatin          0.553742   0.755559    0.735344       0.668567   \n",
       "Normal.nucleoli      0.534066   0.719346    0.717963       0.603121   \n",
       "Mitoses              0.350957   0.460755    0.441258       0.418898   \n",
       "Class                0.714790   0.820801    0.821891       0.706294   \n",
       "\n",
       "                 Epith.c.size  Bare.nuclei  Bl.cromatin  Normal.nucleoli  \\\n",
       "Cl.thickness         0.523596     0.593091     0.553742         0.534066   \n",
       "Cell.size            0.753544     0.691709     0.755559         0.719346   \n",
       "Cell.shape           0.722462     0.713878     0.735344         0.717963   \n",
       "Marg.adhesion        0.594548     0.670648     0.668567         0.603121   \n",
       "Epith.c.size         1.000000     0.585716     0.618128         0.628926   \n",
       "Bare.nuclei          0.585716     1.000000     0.680615         0.584280   \n",
       "Bl.cromatin          0.618128     0.680615     1.000000         0.665602   \n",
       "Normal.nucleoli      0.628926     0.584280     0.665602         1.000000   \n",
       "Mitoses              0.480583     0.339210     0.346011         0.433757   \n",
       "Class                0.690958     0.822696     0.758228         0.718677   \n",
       "\n",
       "                  Mitoses     Class  \n",
       "Cl.thickness     0.350957  0.714790  \n",
       "Cell.size        0.460755  0.820801  \n",
       "Cell.shape       0.441258  0.821891  \n",
       "Marg.adhesion    0.418898  0.706294  \n",
       "Epith.c.size     0.480583  0.690958  \n",
       "Bare.nuclei      0.339210  0.822696  \n",
       "Bl.cromatin      0.346011  0.758228  \n",
       "Normal.nucleoli  0.433757  0.718677  \n",
       "Mitoses          1.000000  0.423448  \n",
       "Class            0.423448  1.000000  "
      ]
     },
     "execution_count": 12,
     "metadata": {},
     "output_type": "execute_result"
    }
   ],
   "source": [
    "correlation = X.corr()\n",
    "correlation"
   ]
  },
  {
   "cell_type": "code",
   "execution_count": 13,
   "id": "b9c9bd8b",
   "metadata": {
    "scrolled": true
   },
   "outputs": [
    {
     "data": {
      "image/png": "[encoded data removed]",
      "text/plain": [
       "<Figure size 600x600 with 2 Axes>"
      ]
     },
     "metadata": {},
     "output_type": "display_data"
    }
   ],
   "source": [
    "plt.figure(figsize=(6,6))\n",
    "sns.heatmap(correlation, cmap='RdYlBu', annot=True, vmax=1, vmin=-1)\n",
    "plt.show()"
   ]
  },
  {
   "cell_type": "markdown",
   "id": "ff5e318f",
   "metadata": {},
   "source": [
    "From the correlation map it can be concluded that cell size, cell shape, and bare nuclei features have the highest correlation to the class at 0.82. Mitosis has the lowest at 0.42. After testing models with all columns and also with certain columns such as mitosis removed it was found that keeping all columns of the table obtains the best results. Threfore all columns in data are kept in this project."
   ]
  },
  {
   "cell_type": "markdown",
   "id": "ae0fc37b",
   "metadata": {},
   "source": [
    "# Data pre-processing and splitting\n",
    "\n",
    "## Scaling\n",
    "For this problem case, the data was required to be appropriately scaled. For the Naive Bayes (NB) model the data was required to be scaled with mean of 0 and standard devation of 1. This was achieved using sci-kit learn's preprocessing scale package. \n",
    "\n",
    "For the Logistic Regression (LR) model, sci-kit learn's min max scaling was used to appropriately scale the data into the format required. This means the data for the LR model is scaled between 0 and 1 to meet the requirements of the model."
   ]
  },
  {
   "cell_type": "code",
   "execution_count": 14,
   "id": "b09a43b2",
   "metadata": {},
   "outputs": [],
   "source": [
    "X_scaled = sklearn.preprocessing.scale(X)"
   ]
  },
  {
   "cell_type": "code",
   "execution_count": 15,
   "id": "a1f5d12c",
   "metadata": {},
   "outputs": [],
   "source": [
    "labels = []\n",
    "extracted_col = X[\"Class\"]\n",
    "extracted_col\n",
    "labels.append(extracted_col)\n",
    "labels = np.reshape(labels, (683))"
   ]
  },
  {
   "cell_type": "code",
   "execution_count": 16,
   "id": "f8662099",
   "metadata": {
    "scrolled": true
   },
   "outputs": [
    {
     "data": {
      "text/plain": [
       "array([[ 0.19790469, -0.70221201, -0.74177362, ..., -0.18182716,\n",
       "        -0.61292736, -0.34839971],\n",
       "       [ 0.19790469,  0.27725185,  0.26278299, ..., -0.18182716,\n",
       "        -0.28510482, -0.34839971],\n",
       "       [-0.51164337, -0.70221201, -0.74177362, ..., -0.18182716,\n",
       "        -0.61292736, -0.34839971],\n",
       "       ...,\n",
       "       [ 0.19790469,  2.23617957,  2.2718962 , ...,  1.86073779,\n",
       "         2.33747554,  0.22916583],\n",
       "       [-0.15686934,  1.58320366,  0.93248739, ...,  2.67776377,\n",
       "         1.02618536, -0.34839971],\n",
       "       [-0.15686934,  1.58320366,  1.6021918 , ...,  2.67776377,\n",
       "         0.37054027, -0.34839971]])"
      ]
     },
     "execution_count": 16,
     "metadata": {},
     "output_type": "execute_result"
    }
   ],
   "source": [
    "X_NB = X_scaled[:,0:9]\n",
    "X_NB"
   ]
  },
  {
   "cell_type": "code",
   "execution_count": 17,
   "id": "f04b5c15",
   "metadata": {
    "scrolled": true
   },
   "outputs": [
    {
     "data": {
      "text/html": [
       "<div>\n",
       "<style scoped>\n",
       "    .dataframe tbody tr th:only-of-type {\n",
       "        vertical-align: middle;\n",
       "    }\n",
       "\n",
       "    .dataframe tbody tr th {\n",
       "        vertical-align: top;\n",
       "    }\n",
       "\n",
       "    .dataframe thead th {\n",
       "        text-align: right;\n",
       "    }\n",
       "</style>\n",
       "<table border=\"1\" class=\"dataframe\">\n",
       "  <thead>\n",
       "    <tr style=\"text-align: right;\">\n",
       "      <th></th>\n",
       "      <th>Cl.thickness</th>\n",
       "      <th>Cell.size</th>\n",
       "      <th>Cell.shape</th>\n",
       "      <th>Marg.adhesion</th>\n",
       "      <th>Epith.c.size</th>\n",
       "      <th>Bare.nuclei</th>\n",
       "      <th>Bl.cromatin</th>\n",
       "      <th>Normal.nucleoli</th>\n",
       "      <th>Mitoses</th>\n",
       "    </tr>\n",
       "  </thead>\n",
       "  <tbody>\n",
       "    <tr>\n",
       "      <th>0</th>\n",
       "      <td>4.454847</td>\n",
       "      <td>2.386095</td>\n",
       "      <td>2.295170</td>\n",
       "      <td>2.530536</td>\n",
       "      <td>2.723036</td>\n",
       "      <td>2.393815</td>\n",
       "      <td>3.582104</td>\n",
       "      <td>2.591299</td>\n",
       "      <td>3.199268</td>\n",
       "    </tr>\n",
       "    <tr>\n",
       "      <th>1</th>\n",
       "      <td>4.454847</td>\n",
       "      <td>4.637212</td>\n",
       "      <td>4.603958</td>\n",
       "      <td>5.742196</td>\n",
       "      <td>7.896027</td>\n",
       "      <td>8.074609</td>\n",
       "      <td>3.582104</td>\n",
       "      <td>3.344739</td>\n",
       "      <td>3.199268</td>\n",
       "    </tr>\n",
       "    <tr>\n",
       "      <th>2</th>\n",
       "      <td>2.824082</td>\n",
       "      <td>2.386095</td>\n",
       "      <td>2.295170</td>\n",
       "      <td>2.530536</td>\n",
       "      <td>2.723036</td>\n",
       "      <td>3.025014</td>\n",
       "      <td>3.582104</td>\n",
       "      <td>2.591299</td>\n",
       "      <td>3.199268</td>\n",
       "    </tr>\n",
       "    <tr>\n",
       "      <th>3</th>\n",
       "      <td>5.270230</td>\n",
       "      <td>7.638702</td>\n",
       "      <td>7.682342</td>\n",
       "      <td>2.530536</td>\n",
       "      <td>3.757634</td>\n",
       "      <td>4.287413</td>\n",
       "      <td>3.582104</td>\n",
       "      <td>7.111938</td>\n",
       "      <td>3.199268</td>\n",
       "    </tr>\n",
       "    <tr>\n",
       "      <th>4</th>\n",
       "      <td>3.639465</td>\n",
       "      <td>2.386095</td>\n",
       "      <td>2.295170</td>\n",
       "      <td>4.136366</td>\n",
       "      <td>2.723036</td>\n",
       "      <td>2.393815</td>\n",
       "      <td>3.582104</td>\n",
       "      <td>2.591299</td>\n",
       "      <td>3.199268</td>\n",
       "    </tr>\n",
       "    <tr>\n",
       "      <th>...</th>\n",
       "      <td>...</td>\n",
       "      <td>...</td>\n",
       "      <td>...</td>\n",
       "      <td>...</td>\n",
       "      <td>...</td>\n",
       "      <td>...</td>\n",
       "      <td>...</td>\n",
       "      <td>...</td>\n",
       "      <td>...</td>\n",
       "    </tr>\n",
       "    <tr>\n",
       "      <th>678</th>\n",
       "      <td>2.824082</td>\n",
       "      <td>2.386095</td>\n",
       "      <td>2.295170</td>\n",
       "      <td>2.530536</td>\n",
       "      <td>3.757634</td>\n",
       "      <td>3.025014</td>\n",
       "      <td>1.704320</td>\n",
       "      <td>2.591299</td>\n",
       "      <td>3.199268</td>\n",
       "    </tr>\n",
       "    <tr>\n",
       "      <th>679</th>\n",
       "      <td>2.008699</td>\n",
       "      <td>2.386095</td>\n",
       "      <td>2.295170</td>\n",
       "      <td>2.530536</td>\n",
       "      <td>2.723036</td>\n",
       "      <td>2.393815</td>\n",
       "      <td>1.704320</td>\n",
       "      <td>2.591299</td>\n",
       "      <td>3.199268</td>\n",
       "    </tr>\n",
       "    <tr>\n",
       "      <th>680</th>\n",
       "      <td>4.454847</td>\n",
       "      <td>9.139446</td>\n",
       "      <td>9.221535</td>\n",
       "      <td>4.136366</td>\n",
       "      <td>7.896027</td>\n",
       "      <td>3.656214</td>\n",
       "      <td>8.276563</td>\n",
       "      <td>9.372257</td>\n",
       "      <td>4.526695</td>\n",
       "    </tr>\n",
       "    <tr>\n",
       "      <th>681</th>\n",
       "      <td>3.639465</td>\n",
       "      <td>7.638702</td>\n",
       "      <td>6.143150</td>\n",
       "      <td>4.939281</td>\n",
       "      <td>3.757634</td>\n",
       "      <td>4.287413</td>\n",
       "      <td>10.154346</td>\n",
       "      <td>6.358498</td>\n",
       "      <td>3.199268</td>\n",
       "    </tr>\n",
       "    <tr>\n",
       "      <th>682</th>\n",
       "      <td>3.639465</td>\n",
       "      <td>7.638702</td>\n",
       "      <td>7.682342</td>\n",
       "      <td>5.742196</td>\n",
       "      <td>4.792233</td>\n",
       "      <td>4.918612</td>\n",
       "      <td>10.154346</td>\n",
       "      <td>4.851618</td>\n",
       "      <td>3.199268</td>\n",
       "    </tr>\n",
       "  </tbody>\n",
       "</table>\n",
       "<p>683 rows × 9 columns</p>\n",
       "</div>"
      ],
      "text/plain": [
       "     Cl.thickness  Cell.size  Cell.shape  Marg.adhesion  Epith.c.size  \\\n",
       "0        4.454847   2.386095    2.295170       2.530536      2.723036   \n",
       "1        4.454847   4.637212    4.603958       5.742196      7.896027   \n",
       "2        2.824082   2.386095    2.295170       2.530536      2.723036   \n",
       "3        5.270230   7.638702    7.682342       2.530536      3.757634   \n",
       "4        3.639465   2.386095    2.295170       4.136366      2.723036   \n",
       "..            ...        ...         ...            ...           ...   \n",
       "678      2.824082   2.386095    2.295170       2.530536      3.757634   \n",
       "679      2.008699   2.386095    2.295170       2.530536      2.723036   \n",
       "680      4.454847   9.139446    9.221535       4.136366      7.896027   \n",
       "681      3.639465   7.638702    6.143150       4.939281      3.757634   \n",
       "682      3.639465   7.638702    7.682342       5.742196      4.792233   \n",
       "\n",
       "     Bare.nuclei  Bl.cromatin  Normal.nucleoli   Mitoses  \n",
       "0       2.393815     3.582104         2.591299  3.199268  \n",
       "1       8.074609     3.582104         3.344739  3.199268  \n",
       "2       3.025014     3.582104         2.591299  3.199268  \n",
       "3       4.287413     3.582104         7.111938  3.199268  \n",
       "4       2.393815     3.582104         2.591299  3.199268  \n",
       "..           ...          ...              ...       ...  \n",
       "678     3.025014     1.704320         2.591299  3.199268  \n",
       "679     2.393815     1.704320         2.591299  3.199268  \n",
       "680     3.656214     8.276563         9.372257  4.526695  \n",
       "681     4.287413    10.154346         6.358498  3.199268  \n",
       "682     4.918612    10.154346         4.851618  3.199268  \n",
       "\n",
       "[683 rows x 9 columns]"
      ]
     },
     "execution_count": 17,
     "metadata": {},
     "output_type": "execute_result"
    }
   ],
   "source": [
    "X_logreg = X.loc[:,[\"Cl.thickness\" ,\"Cell.size\",  \"Cell.shape\", \"Marg.adhesion\", \"Epith.c.size\", \"Bare.nuclei\", \"Bl.cromatin\", \"Normal.nucleoli\", \"Mitoses\"]]\n",
    "X_logreg"
   ]
  },
  {
   "cell_type": "code",
   "execution_count": 18,
   "id": "4ac02ae0",
   "metadata": {},
   "outputs": [
    {
     "data": {
      "text/html": [
       "<div>\n",
       "<style scoped>\n",
       "    .dataframe tbody tr th:only-of-type {\n",
       "        vertical-align: middle;\n",
       "    }\n",
       "\n",
       "    .dataframe tbody tr th {\n",
       "        vertical-align: top;\n",
       "    }\n",
       "\n",
       "    .dataframe thead th {\n",
       "        text-align: right;\n",
       "    }\n",
       "</style>\n",
       "<table border=\"1\" class=\"dataframe\">\n",
       "  <thead>\n",
       "    <tr style=\"text-align: right;\">\n",
       "      <th></th>\n",
       "      <th>Cl.thickness</th>\n",
       "      <th>Cell.size</th>\n",
       "      <th>Cell.shape</th>\n",
       "      <th>Marg.adhesion</th>\n",
       "      <th>Epith.c.size</th>\n",
       "      <th>Bare.nuclei</th>\n",
       "      <th>Bl.cromatin</th>\n",
       "      <th>Normal.nucleoli</th>\n",
       "      <th>Mitoses</th>\n",
       "    </tr>\n",
       "  </thead>\n",
       "  <tbody>\n",
       "    <tr>\n",
       "      <th>0</th>\n",
       "      <td>0.444444</td>\n",
       "      <td>0.000000</td>\n",
       "      <td>0.000000</td>\n",
       "      <td>0.000000</td>\n",
       "      <td>0.111111</td>\n",
       "      <td>0.000000</td>\n",
       "      <td>0.222222</td>\n",
       "      <td>0.000000</td>\n",
       "      <td>0.0</td>\n",
       "    </tr>\n",
       "    <tr>\n",
       "      <th>1</th>\n",
       "      <td>0.444444</td>\n",
       "      <td>0.333333</td>\n",
       "      <td>0.333333</td>\n",
       "      <td>0.444444</td>\n",
       "      <td>0.666667</td>\n",
       "      <td>1.000000</td>\n",
       "      <td>0.222222</td>\n",
       "      <td>0.111111</td>\n",
       "      <td>0.0</td>\n",
       "    </tr>\n",
       "    <tr>\n",
       "      <th>2</th>\n",
       "      <td>0.222222</td>\n",
       "      <td>0.000000</td>\n",
       "      <td>0.000000</td>\n",
       "      <td>0.000000</td>\n",
       "      <td>0.111111</td>\n",
       "      <td>0.111111</td>\n",
       "      <td>0.222222</td>\n",
       "      <td>0.000000</td>\n",
       "      <td>0.0</td>\n",
       "    </tr>\n",
       "    <tr>\n",
       "      <th>3</th>\n",
       "      <td>0.555556</td>\n",
       "      <td>0.777778</td>\n",
       "      <td>0.777778</td>\n",
       "      <td>0.000000</td>\n",
       "      <td>0.222222</td>\n",
       "      <td>0.333333</td>\n",
       "      <td>0.222222</td>\n",
       "      <td>0.666667</td>\n",
       "      <td>0.0</td>\n",
       "    </tr>\n",
       "    <tr>\n",
       "      <th>4</th>\n",
       "      <td>0.333333</td>\n",
       "      <td>0.000000</td>\n",
       "      <td>0.000000</td>\n",
       "      <td>0.222222</td>\n",
       "      <td>0.111111</td>\n",
       "      <td>0.000000</td>\n",
       "      <td>0.222222</td>\n",
       "      <td>0.000000</td>\n",
       "      <td>0.0</td>\n",
       "    </tr>\n",
       "  </tbody>\n",
       "</table>\n",
       "</div>"
      ],
      "text/plain": [
       "   Cl.thickness  Cell.size  Cell.shape  Marg.adhesion  Epith.c.size  \\\n",
       "0      0.444444   0.000000    0.000000       0.000000      0.111111   \n",
       "1      0.444444   0.333333    0.333333       0.444444      0.666667   \n",
       "2      0.222222   0.000000    0.000000       0.000000      0.111111   \n",
       "3      0.555556   0.777778    0.777778       0.000000      0.222222   \n",
       "4      0.333333   0.000000    0.000000       0.222222      0.111111   \n",
       "\n",
       "   Bare.nuclei  Bl.cromatin  Normal.nucleoli  Mitoses  \n",
       "0     0.000000     0.222222         0.000000      0.0  \n",
       "1     1.000000     0.222222         0.111111      0.0  \n",
       "2     0.111111     0.222222         0.000000      0.0  \n",
       "3     0.333333     0.222222         0.666667      0.0  \n",
       "4     0.000000     0.222222         0.000000      0.0  "
      ]
     },
     "execution_count": 18,
     "metadata": {},
     "output_type": "execute_result"
    }
   ],
   "source": [
    "from sklearn.preprocessing import MinMaxScaler\n",
    "cols = X_logreg.columns\n",
    "norm = MinMaxScaler()\n",
    "X_norm = norm.fit_transform(X_logreg)\n",
    "X_norm = pd.DataFrame(X_norm, columns = cols)\n",
    "X_norm.head()"
   ]
  },
  {
   "cell_type": "markdown",
   "id": "2a904958",
   "metadata": {},
   "source": [
    "## Data Splitting"
   ]
  },
  {
   "cell_type": "code",
   "execution_count": 19,
   "id": "cb66287e",
   "metadata": {},
   "outputs": [],
   "source": [
    "X_train, X_test, y_train, y_test = train_test_split(X_NB, labels, test_size=0.33, random_state=42)"
   ]
  },
  {
   "cell_type": "code",
   "execution_count": 20,
   "id": "1aac09ad",
   "metadata": {},
   "outputs": [],
   "source": [
    "X_trai, X_tes, y_trai, y_tes = train_test_split(X_norm, labels, test_size=0.33, random_state=42)"
   ]
  },
  {
   "cell_type": "markdown",
   "id": "cb060ab1",
   "metadata": {},
   "source": [
    "# Model training and evaluation\n",
    "\n",
    "Naive Bayes (NB):\n",
    "    \n",
    "    Bayesian classifiers are statistical classifiers that can predict the probability of a given data sample belonging to a particular class. These could be binary or multi-class classification probelms, however, the problem case of this project requires Bayesian classifiers for binary classification. They are based on Bayes' Theorem. \n",
    "    Bayesian classifiers assume that the effect an attribute value has on it's given class is independent of values of other attributes. This assumption is referred to as class conditional independence. NB classsifiers are referred to as Naive as a result of this assumption.\n",
    "    To predict the which class each data point belongs to based on it's properties two things are needed:\n",
    "        -The prior probability of data point c belonging to class k \n",
    "\n",
    "$$p(c_{k})$$\n",
    "        \n",
    "        -The likelihood of i assuming that i belongs to class k\n",
    "$$p(x_{i}|c_{k})$$\n",
    "    \n",
    "    Using Bayes rule\n",
    "    \n",
    "$$ p(c_{k}|x_{i}) = \\frac{p(x_{i}|c_{k})p(c_{k})}{p(x_{i})} $$\n",
    "    \n",
    "    x(i) is known therefore it can be considered fixed. hence:\n",
    "    \n",
    "$$ p(c_{k}|x_{i}) ∝ p(x_{i}|c_{k})p(c_{k}) $$\n",
    "\n",
    "    As a result of the class conditional independence assumption, if x(i) is a vector with multiple features then:\n",
    "    \n",
    "$$p(x_{i,1},x_{i,2},...,x_{i,p}|c_{k}) = \\prod \\limits _{j=1} ^{p} p(x_{i,j}|c_{k})$$\n",
    "    \n",
    "    NB models use MAP(Maximum A Poseterior) as their method/function for parameter estimation. \n",
    "    Model Choices: there are different types NB models all suited for different problems. These include BernoulliNB, CategoricalNB, ComplementNB, GaussianNB, and MultinomialNB. As this problem case is a binary classificaion problem, the two types of NB models suitable for the problem case are complementNB and BernoulliNB. Both of these models will be trained and evaluated and the model with the higher accuracy will be selected to be compared with the Logistic Regresion Model. \n",
    "\n",
    "Logistic Regression (LR):\n",
    "\n",
    "    Logistic Regression(LR) is a linear model used for binary or multiclass classification. In linear models, one or more independent variables describe the relationship to a dependent (response) variable. In the problem case of this project the features are the independent variables and the class is the dependent (response) variable. In LR, the response variable is the log value of the odds being classified as either 0 or 1. \n",
    "    For Logistic Regression Y is modeled as:\n",
    "    \n",
    "$$P(Y=1|X)$$\n",
    "\n",
    "    A function called sigmoid is used to constraint the probabilities between 0 and 1. This is the probability of the input belonging to a particular class.\n",
    "    \n",
    "$$ odds = \\frac{px}{1-px}$$\n",
    "\n",
    "$$log odds(logit) = log(\\frac{px}{1-px})$$\n",
    "\n",
    "    The assumptions made for a logistic regression model are as followed. Similarly to NB, LR also assumes indepdence between features, the probability output is between 0 and 1 and the features follow a Bernoulli distrubution.\n",
    "    \n",
    "    LR model for a vinary response can be expressed as the following:\n",
    "    \n",
    "$$p(y^{(i)} = 1|x^{(i)},w) = 1 - \\frac{1}{1+e^{(w^{T}x^{(i)}+b)}} $$\n",
    "   \n",
    "$$p(y^{(i)} = 0|x^{(i)},w) = 1 - \\frac{1}{1+e^{(w^{T}x^{(i)}+b)}} $$\n",
    "    \n",
    "    w = weight, b = bias term. The goal is to find a set of weights which minimise the negative loglikelihood. This would essentially mean maximising the loglikelihood which would mean maximising the probability of selecting the correct class.\n",
    "    In this problem case the output of the LR model would be 2 probabilities for each data point. These would be reffereing to the probability of the data point belonging to either class 0 or 1. We can use these two values to pick the class with the highest probability as the prediction of the LR model. \n"
   ]
  },
  {
   "cell_type": "markdown",
   "id": "9e71464f",
   "metadata": {},
   "source": [
    "## Accuracy\n",
    "\n",
    "Accuracy is a measure of the percentage of the total number of correct predictions (TP + TN) over the total number of predictions."
   ]
  },
  {
   "cell_type": "code",
   "execution_count": 21,
   "id": "db8bf22a",
   "metadata": {},
   "outputs": [
    {
     "data": {
      "text/plain": [
       "0.8849557522123894"
      ]
     },
     "execution_count": 21,
     "metadata": {},
     "output_type": "execute_result"
    }
   ],
   "source": [
    "nbclassifier = ComplementNB()\n",
    "nbclassifier.fit(X_trai,y_trai).score(X_tes,y_tes)"
   ]
  },
  {
   "cell_type": "code",
   "execution_count": 22,
   "id": "e11115d4",
   "metadata": {},
   "outputs": [
    {
     "data": {
      "text/plain": [
       "0.9734513274336283"
      ]
     },
     "execution_count": 22,
     "metadata": {},
     "output_type": "execute_result"
    }
   ],
   "source": [
    "\n",
    "nbclassifier1 = BernoulliNB()\n",
    "nbclassifier1.fit(X_train,y_train).score(X_test,y_test)"
   ]
  },
  {
   "cell_type": "code",
   "execution_count": 23,
   "id": "41460111",
   "metadata": {},
   "outputs": [],
   "source": [
    "y_pred_NB = nbclassifier1.predict(X_test)"
   ]
  },
  {
   "cell_type": "code",
   "execution_count": 24,
   "id": "a1d7479e",
   "metadata": {
    "scrolled": true
   },
   "outputs": [
    {
     "data": {
      "text/plain": [
       "0.9513274336283186"
      ]
     },
     "execution_count": 24,
     "metadata": {},
     "output_type": "execute_result"
    }
   ],
   "source": [
    "log_reg = LogisticRegression(solver=\"liblinear\", random_state=42, multi_class = 'ovr')\n",
    "log_reg.fit(X_trai, y_trai).score(X_tes, y_tes)"
   ]
  },
  {
   "cell_type": "markdown",
   "id": "6fe5bb96",
   "metadata": {},
   "source": [
    "From the accuracy metric we can derive that the NB model slightly outperforms the LR model in this problem case. Both of these models have a really good performance for this problem case."
   ]
  },
  {
   "cell_type": "code",
   "execution_count": 25,
   "id": "651280b0",
   "metadata": {},
   "outputs": [],
   "source": [
    "y_predicted = log_reg.predict_proba(X_tes)"
   ]
  },
  {
   "cell_type": "code",
   "execution_count": 26,
   "id": "0c02b80e",
   "metadata": {},
   "outputs": [
    {
     "data": {
      "text/plain": [
       "[1,\n",
       " 1,\n",
       " 0,\n",
       " 0,\n",
       " 0,\n",
       " 0,\n",
       " 0,\n",
       " 0,\n",
       " 1,\n",
       " 0,\n",
       " 0,\n",
       " 0,\n",
       " 0,\n",
       " 0,\n",
       " 0,\n",
       " 1,\n",
       " 0,\n",
       " 1,\n",
       " 0,\n",
       " 1,\n",
       " 1,\n",
       " 0,\n",
       " 1,\n",
       " 0,\n",
       " 0,\n",
       " 0,\n",
       " 1,\n",
       " 1,\n",
       " 0,\n",
       " 1,\n",
       " 0,\n",
       " 1,\n",
       " 1,\n",
       " 1,\n",
       " 0,\n",
       " 0,\n",
       " 1,\n",
       " 0,\n",
       " 1,\n",
       " 1,\n",
       " 0,\n",
       " 1,\n",
       " 1,\n",
       " 0,\n",
       " 0,\n",
       " 1,\n",
       " 0,\n",
       " 1,\n",
       " 0,\n",
       " 1,\n",
       " 0,\n",
       " 0,\n",
       " 0,\n",
       " 1,\n",
       " 0,\n",
       " 1,\n",
       " 0,\n",
       " 0,\n",
       " 0,\n",
       " 1,\n",
       " 0,\n",
       " 0,\n",
       " 0,\n",
       " 1,\n",
       " 0,\n",
       " 0,\n",
       " 1,\n",
       " 0,\n",
       " 0,\n",
       " 0,\n",
       " 1,\n",
       " 0,\n",
       " 0,\n",
       " 0,\n",
       " 1,\n",
       " 1,\n",
       " 0,\n",
       " 0,\n",
       " 1,\n",
       " 1,\n",
       " 1,\n",
       " 1,\n",
       " 0,\n",
       " 1,\n",
       " 0,\n",
       " 1,\n",
       " 0,\n",
       " 0,\n",
       " 1,\n",
       " 0,\n",
       " 0,\n",
       " 1,\n",
       " 0,\n",
       " 0,\n",
       " 0,\n",
       " 0,\n",
       " 1,\n",
       " 1,\n",
       " 0,\n",
       " 0,\n",
       " 0,\n",
       " 0,\n",
       " 1,\n",
       " 0,\n",
       " 1,\n",
       " 0,\n",
       " 0,\n",
       " 0,\n",
       " 1,\n",
       " 0,\n",
       " 1,\n",
       " 1,\n",
       " 1,\n",
       " 0,\n",
       " 0,\n",
       " 0,\n",
       " 0,\n",
       " 0,\n",
       " 0,\n",
       " 0,\n",
       " 1,\n",
       " 1,\n",
       " 0,\n",
       " 0,\n",
       " 0,\n",
       " 0,\n",
       " 1,\n",
       " 0,\n",
       " 1,\n",
       " 0,\n",
       " 0,\n",
       " 0,\n",
       " 1,\n",
       " 1,\n",
       " 1,\n",
       " 0,\n",
       " 0,\n",
       " 0,\n",
       " 1,\n",
       " 0,\n",
       " 1,\n",
       " 0,\n",
       " 0,\n",
       " 0,\n",
       " 1,\n",
       " 0,\n",
       " 0,\n",
       " 0,\n",
       " 0,\n",
       " 0,\n",
       " 0,\n",
       " 0,\n",
       " 1,\n",
       " 0,\n",
       " 0,\n",
       " 0,\n",
       " 0,\n",
       " 0,\n",
       " 1,\n",
       " 0,\n",
       " 1,\n",
       " 0,\n",
       " 0,\n",
       " 0,\n",
       " 0,\n",
       " 0,\n",
       " 0,\n",
       " 0,\n",
       " 1,\n",
       " 1,\n",
       " 0,\n",
       " 0,\n",
       " 0,\n",
       " 1,\n",
       " 0,\n",
       " 0,\n",
       " 1,\n",
       " 0,\n",
       " 0,\n",
       " 0,\n",
       " 0,\n",
       " 0,\n",
       " 0,\n",
       " 0,\n",
       " 0,\n",
       " 1,\n",
       " 1,\n",
       " 0,\n",
       " 0,\n",
       " 0,\n",
       " 1,\n",
       " 0,\n",
       " 1,\n",
       " 0,\n",
       " 1,\n",
       " 1,\n",
       " 0,\n",
       " 0,\n",
       " 0,\n",
       " 0,\n",
       " 1,\n",
       " 1,\n",
       " 1,\n",
       " 0,\n",
       " 0,\n",
       " 1,\n",
       " 0,\n",
       " 0,\n",
       " 1,\n",
       " 0,\n",
       " 1,\n",
       " 0,\n",
       " 0,\n",
       " 0,\n",
       " 0,\n",
       " 0,\n",
       " 0,\n",
       " 1,\n",
       " 0,\n",
       " 1,\n",
       " 0,\n",
       " 0,\n",
       " 0,\n",
       " 0,\n",
       " 0,\n",
       " 0]"
      ]
     },
     "execution_count": 26,
     "metadata": {},
     "output_type": "execute_result"
    }
   ],
   "source": [
    "decision_boundar = []\n",
    "\n",
    "for i in range(len(y_predicted)):\n",
    "    if y_predicted[i][0] > y_predicted[i][1]:\n",
    "        decision_boundar.append(0)\n",
    "    elif y_predicted[i][1] > y_predicted[i][0]:\n",
    "        decision_boundar.append(1)\n",
    "        \n",
    "decision_boundar"
   ]
  },
  {
   "cell_type": "markdown",
   "id": "768bcb9d",
   "metadata": {},
   "source": [
    "## Feature Importance"
   ]
  },
  {
   "cell_type": "code",
   "execution_count": 27,
   "id": "e0649c33",
   "metadata": {},
   "outputs": [
    {
     "name": "stdout",
     "output_type": "stream",
     "text": [
      "Feature: 0, Score: -0.1510\n",
      "Feature: 1, Score: -0.1436\n",
      "Feature: 2, Score: -0.1218\n",
      "Feature: 3, Score: -0.2121\n",
      "Feature: 4, Score: -0.3113\n",
      "Feature: 5, Score: -0.1584\n",
      "Feature: 6, Score: -0.2042\n",
      "Feature: 7, Score: -0.2441\n",
      "Feature: 8, Score: -0.8221\n"
     ]
    },
    {
     "name": "stderr",
     "output_type": "stream",
     "text": [
      "C:\\Users\\Reza Yaghoobi\\anaconda3\\lib\\site-packages\\sklearn\\utils\\deprecation.py:103: FutureWarning: Attribute `coef_` was deprecated in version 0.24 and will be removed in 1.1 (renaming of 0.26).\n",
      "  warnings.warn(msg, category=FutureWarning)\n"
     ]
    },
    {
     "data": {
      "image/png": "[encoded data removed]",
      "text/plain": [
       "<Figure size 640x480 with 1 Axes>"
      ]
     },
     "metadata": {},
     "output_type": "display_data"
    }
   ],
   "source": [
    "importance_NB = nbclassifier1.coef_[0]\n",
    "for i,v in enumerate(importance_NB):\n",
    " print('Feature: %0d, Score: %.4f' % (i,v))\n",
    "plt.bar([x for x in range(len(importance_NB))], importance_NB)\n",
    "plt.show()\n"
   ]
  },
  {
   "cell_type": "code",
   "execution_count": 28,
   "id": "c9972671",
   "metadata": {},
   "outputs": [
    {
     "name": "stdout",
     "output_type": "stream",
     "text": [
      "Feature: 0, Score: 1.6584\n",
      "Feature: 1, Score: 1.4992\n",
      "Feature: 2, Score: 1.6236\n",
      "Feature: 3, Score: 1.1937\n",
      "Feature: 4, Score: 0.1538\n",
      "Feature: 5, Score: 2.8987\n",
      "Feature: 6, Score: 1.3309\n",
      "Feature: 7, Score: 1.3689\n",
      "Feature: 8, Score: 0.9684\n"
     ]
    },
    {
     "data": {
      "image/png": "[encoded data removed]",
      "text/plain": [
       "<Figure size 640x480 with 1 Axes>"
      ]
     },
     "metadata": {},
     "output_type": "display_data"
    }
   ],
   "source": [
    "importance = log_reg.coef_[0]\n",
    "for i,v in enumerate(importance):\n",
    " print('Feature: %0d, Score: %.4f' % (i,v))\n",
    "plt.bar([x for x in range(len(importance))], importance)\n",
    "plt.show()"
   ]
  },
  {
   "cell_type": "markdown",
   "id": "395e5d6e",
   "metadata": {},
   "source": [
    "# Confusion Matrix\n",
    "\n",
    "Confusion Matrix is another performance measure for Machine Learning models. It consists of a table with 4 different combinations of predicted and actual values. There is plots of this table for both the models below."
   ]
  },
  {
   "cell_type": "code",
   "execution_count": 29,
   "id": "eb6f2c95",
   "metadata": {
    "scrolled": true
   },
   "outputs": [
    {
     "data": {
      "text/plain": [
       "array([[140,   2],\n",
       "       [  4,  80]], dtype=int64)"
      ]
     },
     "execution_count": 29,
     "metadata": {},
     "output_type": "execute_result"
    }
   ],
   "source": [
    "from sklearn import metrics\n",
    "metrics.confusion_matrix(y_test,  y_pred_NB)"
   ]
  },
  {
   "cell_type": "code",
   "execution_count": 30,
   "id": "340c458b",
   "metadata": {},
   "outputs": [
    {
     "data": {
      "image/png": "[encoded data removed]",
      "text/plain": [
       "<Figure size 600x600 with 1 Axes>"
      ]
     },
     "metadata": {},
     "output_type": "display_data"
    }
   ],
   "source": [
    "conf_matrix_NB = metrics.confusion_matrix(y_test, y_pred_NB)\n",
    "\n",
    "fig, ax = plt.subplots(figsize=(6, 6))\n",
    "ax.imshow(conf_matrix_NB)\n",
    "ax.grid(False)\n",
    "ax.xaxis.set(ticks=(0, 1), ticklabels=('Predicted 0', 'Predicted 1'))\n",
    "ax.yaxis.set(ticks=(0, 1), ticklabels=('Actual 0', 'Actual 1'))\n",
    "ax.set_ylim(1.5, -0.5)\n",
    "for i in range(2):\n",
    "    for j in range(2):\n",
    "        ax.text(j, i, conf_matrix_NB[i, j], ha='center', va='center', color='white')\n",
    "plt.show()"
   ]
  },
  {
   "cell_type": "code",
   "execution_count": 31,
   "id": "8e428ce2",
   "metadata": {},
   "outputs": [
    {
     "data": {
      "text/plain": [
       "array([[140,   2],\n",
       "       [  9,  75]], dtype=int64)"
      ]
     },
     "execution_count": 31,
     "metadata": {},
     "output_type": "execute_result"
    }
   ],
   "source": [
    "from sklearn import metrics\n",
    "metrics.confusion_matrix(y_tes, decision_boundar)"
   ]
  },
  {
   "cell_type": "code",
   "execution_count": 32,
   "id": "fd393aa8",
   "metadata": {},
   "outputs": [
    {
     "data": {
      "image/png": "[encoded data removed]",
      "text/plain": [
       "<Figure size 800x800 with 1 Axes>"
      ]
     },
     "metadata": {},
     "output_type": "display_data"
    }
   ],
   "source": [
    "conf_matrix_LR = metrics.confusion_matrix(y_tes, decision_boundar)\n",
    "\n",
    "fig, ax = plt.subplots(figsize=(8, 8))\n",
    "ax.imshow(conf_matrix_LR)\n",
    "ax.grid(False)\n",
    "ax.xaxis.set(ticks=(0, 1), ticklabels=('Predicted 0s', 'Predicted 1s'))\n",
    "ax.yaxis.set(ticks=(0, 1), ticklabels=('Actual 0s', 'Actual 1s'))\n",
    "ax.set_ylim(1.5, -0.5)\n",
    "for i in range(2):\n",
    "    for j in range(2):\n",
    "        ax.text(j, i, conf_matrix_LR[i, j], ha='center', va='center', color='white')\n",
    "plt.show()"
   ]
  },
  {
   "cell_type": "markdown",
   "id": "65e0b84c",
   "metadata": {},
   "source": [
    "From the confusion matrix we can conclude that the NB model is better performing, especially at predicting actual data belonging to class 1(breast cancer). This is showcased by the slight better performance on the actual and predicted 1s. "
   ]
  },
  {
   "cell_type": "markdown",
   "id": "f05544fd",
   "metadata": {},
   "source": [
    "## Precision, Recall and f1-score\n",
    "**Precision** is a measure of the ratio of true positives compared to the total number of positive predictions (true positive + false positive).\n",
    "\n",
    "**Recal** is a measure of the ratio of the positive cases correctly predicted, over all the positive cases in the data (TP + FN)\n",
    "\n",
    "**f1-score** is a measure combining both precision and recall allowing for better evaluation of models. in order for the f1-score to increase both the precision and recall have to increase. Really high precision and low recall will result in an average f1-score, this is an example of an instance where f1-score is a more suitable metric to use than precision or recall.\n",
    "\n",
    "\n"
   ]
  },
  {
   "cell_type": "code",
   "execution_count": 33,
   "id": "1c1d15b9",
   "metadata": {},
   "outputs": [
    {
     "name": "stdout",
     "output_type": "stream",
     "text": [
      "              precision    recall  f1-score   support\n",
      "\n",
      "           0       0.97      0.99      0.98       142\n",
      "           1       0.98      0.95      0.96        84\n",
      "\n",
      "    accuracy                           0.97       226\n",
      "   macro avg       0.97      0.97      0.97       226\n",
      "weighted avg       0.97      0.97      0.97       226\n",
      "\n"
     ]
    }
   ],
   "source": [
    "y_true = y_test\n",
    "y_pred = y_pred_NB\n",
    "print(classification_report(y_true, y_pred))"
   ]
  },
  {
   "cell_type": "code",
   "execution_count": 34,
   "id": "13b9cdc1",
   "metadata": {
    "scrolled": true
   },
   "outputs": [
    {
     "name": "stdout",
     "output_type": "stream",
     "text": [
      "              precision    recall  f1-score   support\n",
      "\n",
      "           0       0.94      0.99      0.96       142\n",
      "           1       0.97      0.89      0.93        84\n",
      "\n",
      "    accuracy                           0.95       226\n",
      "   macro avg       0.96      0.94      0.95       226\n",
      "weighted avg       0.95      0.95      0.95       226\n",
      "\n"
     ]
    }
   ],
   "source": [
    "y_true = y_tes\n",
    "y_pred = decision_boundar\n",
    "print(classification_report(y_true, y_pred))"
   ]
  },
  {
   "cell_type": "markdown",
   "id": "c7ba5612",
   "metadata": {},
   "source": [
    "# ROC curve\n",
    "\n",
    "A Receiver Operating Characteristic (ROC) curve is a graph that showcases the performance of a classication model by plotting the true positive rate (TPR) against the false positive rate (FPR).\n",
    "TPR is another term describing recall and the equation looks like the following:\n",
    "$$TPR = \\frac{TP}{TP+FN}$$\n",
    "\n",
    "FPR is defined as:\n",
    "$$FPR = \\frac{FP}{FP+TN}$$"
   ]
  },
  {
   "cell_type": "code",
   "execution_count": 35,
   "id": "64b6ec4e",
   "metadata": {
    "scrolled": true
   },
   "outputs": [
    {
     "data": {
      "image/png": "[encoded data removed]",
      "text/plain": [
       "<Figure size 640x480 with 1 Axes>"
      ]
     },
     "metadata": {},
     "output_type": "display_data"
    }
   ],
   "source": [
    "#define metrics\n",
    "y_pred_proba_NB = y_pred_NB\n",
    "fpr, tpr, _ = metrics.roc_curve(y_test,  y_pred_proba_NB)\n",
    "\n",
    "#create ROC curve\n",
    "plt.plot(fpr,tpr)\n",
    "plt.ylabel('True Positive Rate')\n",
    "plt.xlabel('False Positive Rate')\n",
    "plt.show()"
   ]
  },
  {
   "cell_type": "code",
   "execution_count": 36,
   "id": "a4846bee",
   "metadata": {},
   "outputs": [
    {
     "name": "stdout",
     "output_type": "stream",
     "text": [
      "NB model AUC score: 0.9691482226693494\n"
     ]
    }
   ],
   "source": [
    "print(f'NB model AUC score: {sklearn.metrics.roc_auc_score(y_test,  y_pred_proba_NB)}')"
   ]
  },
  {
   "cell_type": "code",
   "execution_count": 37,
   "id": "57a79088",
   "metadata": {
    "scrolled": true
   },
   "outputs": [
    {
     "data": {
      "image/png": "[encoded data removed]",
      "text/plain": [
       "<Figure size 640x480 with 1 Axes>"
      ]
     },
     "metadata": {},
     "output_type": "display_data"
    }
   ],
   "source": [
    "#define metrics\n",
    "y_pred_proba = decision_boundar\n",
    "fpr, tpr, _ = metrics.roc_curve(y_tes,  y_pred_proba)\n",
    "\n",
    "#create ROC curve\n",
    "plt.plot(fpr,tpr)\n",
    "plt.ylabel('True Positive Rate')\n",
    "plt.xlabel('False Positive Rate')\n",
    "plt.show()"
   ]
  },
  {
   "cell_type": "code",
   "execution_count": 38,
   "id": "04fba8b8",
   "metadata": {
    "scrolled": true
   },
   "outputs": [
    {
     "name": "stdout",
     "output_type": "stream",
     "text": [
      "LR model AUC score: 0.9393863179074446\n"
     ]
    }
   ],
   "source": [
    "print(f'LR model AUC score: {sklearn.metrics.roc_auc_score(y_tes,  y_pred_proba)}')"
   ]
  },
  {
   "cell_type": "markdown",
   "id": "d1374d3d",
   "metadata": {},
   "source": [
    "Both models performed really well. As expected again the Naive Bayes (NB) model slightly edged the Logistic Regression (LR) model in performance achieving a close to perfect AUC score of 0.9691."
   ]
  },
  {
   "cell_type": "markdown",
   "id": "1ff64542",
   "metadata": {},
   "source": [
    "## Matthews Correlation Coefficient (MCC)\n",
    "Matthews Correlation Coefficient is an important metric for evaluation of models. MCC is a better metric to use compared to accuracy as it takes into account also the true positive/negative and false positive/negative. it ranges between -1 and 1 with -1 meaning there is no correlation and 1 meaning there is perfect correlation between predicted and actual data. The equation for MCC can be found below:\n",
    "\n",
    "$$𝑀𝐶𝐶 = \\frac{𝑇𝑃 𝑥 𝑇𝑁 − 𝐹𝑃 𝑥 𝐹𝑁}{(𝑇𝑃 + 𝐹𝑃)(𝑇𝑃 + 𝐹𝑁)(𝑇𝑁 + 𝐹𝑃)(𝑇𝑁+𝐹𝑁)}$$\n",
    " \n",
    "    "
   ]
  },
  {
   "cell_type": "code",
   "execution_count": 39,
   "id": "34f50736",
   "metadata": {},
   "outputs": [
    {
     "data": {
      "text/plain": [
       "0.9430521597641348"
      ]
     },
     "execution_count": 39,
     "metadata": {},
     "output_type": "execute_result"
    }
   ],
   "source": [
    "y_true = y_test\n",
    "y_pred = y_pred_NB\n",
    "sklearn.metrics.matthews_corrcoef(y_true, y_pred)\n",
    "#NB"
   ]
  },
  {
   "cell_type": "code",
   "execution_count": 40,
   "id": "06000c19",
   "metadata": {},
   "outputs": [
    {
     "data": {
      "text/plain": [
       "0.8960285409642825"
      ]
     },
     "execution_count": 40,
     "metadata": {},
     "output_type": "execute_result"
    }
   ],
   "source": [
    "y_true = y_tes\n",
    "y_pred = decision_boundar\n",
    "sklearn.metrics.matthews_corrcoef(y_true, y_pred)"
   ]
  },
  {
   "cell_type": "markdown",
   "id": "c609b001",
   "metadata": {},
   "source": [
    "From the MCC for both the models we can observe that the NB model performed better than the LR model. the advantage of using MCC for evaluating these models is showcased in this case; the accuracy of these two models was higher for both as well as the difference between the accuracy performance being much smaller. Taking into account the true positive/negative and false positive/negative numbers has enabled us to better evaluate these models by using MCC as a metric. "
   ]
  },
  {
   "cell_type": "markdown",
   "id": "1827f11d",
   "metadata": {},
   "source": [
    "## Cohen's Kappa Score\n",
    "Cohen's kappa can be described as a statistic used to measure inter-rater reliability for qualitative items. Cohen's kappa takes into account the possibility of agreement occuring by chance, for this reason it is thought to be a more reliable metric than simple percentage metrics such as accuracy.\n",
    "\n",
    "$$k = \\frac{Po-Pe}{1-Pe}$$\n",
    "\n",
    "\n",
    "$$Po = \\frac{Number Of Predictions In Agreement(TP+TN)}{Total}$$\n",
    "\n",
    "\n",
    "$$Pe = \\frac{Pcorrect}{Pincorrect}$$"
   ]
  },
  {
   "cell_type": "code",
   "execution_count": 41,
   "id": "496cf875",
   "metadata": {},
   "outputs": [
    {
     "data": {
      "text/plain": [
       "0.9428812131423757"
      ]
     },
     "execution_count": 41,
     "metadata": {},
     "output_type": "execute_result"
    }
   ],
   "source": [
    "y_true = y_test\n",
    "y_pred = y_pred_NB\n",
    "sklearn.metrics.cohen_kappa_score(y_true, y_pred)"
   ]
  },
  {
   "cell_type": "code",
   "execution_count": 42,
   "id": "15aac54b",
   "metadata": {},
   "outputs": [
    {
     "data": {
      "text/plain": [
       "0.8939872068230277"
      ]
     },
     "execution_count": 42,
     "metadata": {},
     "output_type": "execute_result"
    }
   ],
   "source": [
    "y_true = y_tes\n",
    "y_pred = decision_boundar\n",
    "sklearn.metrics.cohen_kappa_score(y_true, y_pred)"
   ]
  },
  {
   "cell_type": "markdown",
   "id": "5c0fa705",
   "metadata": {},
   "source": [
    "From the Cohen's Kappa Score (k) we can observe that the NB model performs significantly better than the LR model. The importance of the usage of k as an evaluation metric is highlighted here as the gap in the performance of the two models is relatively smaller when using simple percentage metrics such as accuracy in comparison to k."
   ]
  },
  {
   "cell_type": "markdown",
   "id": "dc3b3e43",
   "metadata": {},
   "source": [
    "# Cross Validation"
   ]
  },
  {
   "cell_type": "code",
   "execution_count": 43,
   "id": "95a278b4",
   "metadata": {},
   "outputs": [
    {
     "data": {
      "text/plain": [
       "array([1.        , 0.97777778, 0.95555556, 1.        , 0.97777778])"
      ]
     },
     "execution_count": 43,
     "metadata": {},
     "output_type": "execute_result"
    }
   ],
   "source": [
    "k_fold = KFold(n_splits=5)\n",
    "cross_val_score(nbclassifier1, X_test, y_test, cv=k_fold, n_jobs=-1)"
   ]
  },
  {
   "cell_type": "code",
   "execution_count": 44,
   "id": "5cdce64a",
   "metadata": {},
   "outputs": [
    {
     "data": {
      "text/plain": [
       "array([0.97826087, 0.97777778, 0.93333333, 1.        , 0.97777778])"
      ]
     },
     "execution_count": 44,
     "metadata": {},
     "output_type": "execute_result"
    }
   ],
   "source": [
    "k_fold = KFold(n_splits=5)\n",
    "cross_val_score(log_reg, X_tes, y_tes, cv=k_fold, n_jobs=-1)"
   ]
  },
  {
   "cell_type": "code",
   "execution_count": 45,
   "id": "2fba068d",
   "metadata": {},
   "outputs": [
    {
     "name": "stdout",
     "output_type": "stream",
     "text": [
      "NB cross val mean 0.982222224\n",
      "NB cross val sd 0.01662958672270313\n",
      "LR cross val mean 0.973429952\n",
      "LR cross val sd 0.021793813488653533\n"
     ]
    }
   ],
   "source": [
    "cross_nb = np.array([1.        , 0.97777778, 0.95555556, 1.        , 0.97777778])\n",
    "cross_log = np.array([0.97826087, 0.97777778, 0.93333333, 1.        , 0.97777778])\n",
    "\n",
    "print(\"NB cross val mean\",np.mean(cross_nb))\n",
    "print(\"NB cross val sd\",np.std(cross_nb))\n",
    "print(\"LR cross val mean\",np.mean(cross_log))\n",
    "print(\"LR cross val sd\",np.std(cross_log))"
   ]
  },
  {
   "cell_type": "markdown",
   "id": "15301a04",
   "metadata": {},
   "source": [
    "From the cross validation conducted on the two models and obtaining the mean and standard devation of these for both the Naive Bayes and Logistic Regression models, we can conclude that the NB model is consistantly performing better than the LR model with higher mean and SD in the cross validation. It is important to note however that the highest performance by either of the models in each of their 5 validations was obtained by the LR model in it's last cross validation obtaining a score of 99.26%.\n"
   ]
  },
  {
   "cell_type": "markdown",
   "id": "2d33df95",
   "metadata": {},
   "source": [
    "## Stratified Cross Validation (SCV)\n",
    "SCV is an application of cross validation explained above, however, SCV ensure class balance within each fold which coud be seen as an advantage over cross validation for evaluating the models. "
   ]
  },
  {
   "cell_type": "code",
   "execution_count": 46,
   "id": "523d219d",
   "metadata": {},
   "outputs": [
    {
     "data": {
      "text/plain": [
       "array([1.        , 0.95555556, 0.97777778, 1.        , 0.97777778])"
      ]
     },
     "execution_count": 46,
     "metadata": {},
     "output_type": "execute_result"
    }
   ],
   "source": [
    "sk_fold = StratifiedKFold(n_splits=5)\n",
    "\n",
    "cross_val_score(nbclassifier1, X_test, y_test, cv=sk_fold, n_jobs=-1)"
   ]
  },
  {
   "cell_type": "code",
   "execution_count": 47,
   "id": "4d35a4f6",
   "metadata": {},
   "outputs": [
    {
     "data": {
      "text/plain": [
       "array([0.97826087, 0.95555556, 0.95555556, 1.        , 0.97777778])"
      ]
     },
     "execution_count": 47,
     "metadata": {},
     "output_type": "execute_result"
    }
   ],
   "source": [
    "sk_fold = StratifiedKFold(n_splits=5)\n",
    "\n",
    "cross_val_score(log_reg, X_tes, y_tes, cv=sk_fold, n_jobs=-1)"
   ]
  },
  {
   "cell_type": "code",
   "execution_count": 48,
   "id": "f582d3cb",
   "metadata": {
    "scrolled": true
   },
   "outputs": [
    {
     "name": "stdout",
     "output_type": "stream",
     "text": [
      "NB cross val mean 0.982222224\n",
      "NB cross val sd 0.01662958672270313\n",
      "LR cross val mean 0.973429954\n",
      "LR cross val sd 0.0166565098775339\n"
     ]
    }
   ],
   "source": [
    "Cross_NB = np.array([1.        , 0.95555556, 0.97777778, 1.        , 0.97777778])\n",
    "Cross_log = np.array([0.97826087, 0.95555556, 0.95555556, 1.        , 0.97777778])\n",
    "print(\"NB cross val mean\",np.mean(Cross_NB))\n",
    "print(\"NB cross val sd\",np.std(Cross_NB))\n",
    "print(\"LR cross val mean\",np.mean(Cross_log))\n",
    "print(\"LR cross val sd\",np.std(Cross_log))"
   ]
  },
  {
   "cell_type": "markdown",
   "id": "5e1a528b",
   "metadata": {},
   "source": [
    "The SCV results again show slight edge in performance for the NB model. This is to be expected based on previous metrics looked at. It should be noted that whilst it may seem that the SCV results are the same as the CV results, this is not the case and is shown by the difference in SD for the LR model."
   ]
  },
  {
   "cell_type": "markdown",
   "id": "1323572c",
   "metadata": {},
   "source": [
    "# Overall Comparison\n",
    "Overall it can be concluded that the NB model had a better performance regarding all metrics used in the project compared to the LR model in this problem case. However, both of these models performed really well and are suited to the problem case. Naive Bayes' slight better performance could be affected by the relatively small sample size of the dataset. Naive Bayes models are good at prediction even with relatively low sample size's, however, for Logistic Regression models this can be a disadvantage. It is important to note that these models would be better evaluated if trained and tested on larger amounts of data that has better class balance. The slight class imbalance in the data could result in an unreliable model given complex/rare data samples. This could have been mitigated by using sklearn's resample package, however, since this package was not used in the content of this module, the use of it was avoided. \n",
    "It is important to note that there were duplicate data within the dataset, however, in order to keep the integrity of the dataset, these were kept in. "
   ]
  },
  {
   "cell_type": "code",
   "execution_count": null,
   "id": "2995fa43",
   "metadata": {},
   "outputs": [],
   "source": []
  }
 ],
 "metadata": {
  "kernelspec": {
   "display_name": "Python 3 (ipykernel)",
   "language": "python",
   "name": "python3"
  },
  "language_info": {
   "codemirror_mode": {
    "name": "ipython",
    "version": 3
   },
   "file_extension": ".py",
   "mimetype": "text/x-python",
   "name": "python",
   "nbconvert_exporter": "python",
   "pygments_lexer": "ipython3",
   "version": "3.9.13"
  }
 },
 "nbformat": 4,
 "nbformat_minor": 5
}
